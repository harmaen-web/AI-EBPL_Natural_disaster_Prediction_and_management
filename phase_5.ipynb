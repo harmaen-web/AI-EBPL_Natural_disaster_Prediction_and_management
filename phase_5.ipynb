{
  "nbformat": 4,
  "nbformat_minor": 0,
  "metadata": {
    "colab": {
      "provenance": [],
      "include_colab_link": true
    },
    "kernelspec": {
      "name": "python3",
      "display_name": "Python 3"
    },
    "language_info": {
      "name": "python"
    }
  },
  "cells": [
    {
      "cell_type": "markdown",
      "metadata": {
        "id": "view-in-github",
        "colab_type": "text"
      },
      "source": [
        "<a href=\"https://colab.research.google.com/github/harmaen-web/demo/blob/main/phase_5.ipynb\" target=\"_parent\"><img src=\"https://colab.research.google.com/assets/colab-badge.svg\" alt=\"Open In Colab\"/></a>"
      ]
    },
    {
      "cell_type": "code",
      "source": [
        "# 📌 Import required libraries\n",
        "from sklearn.metrics import classification_report, confusion_matrix, ConfusionMatrixDisplay\n",
        "import matplotlib.pyplot as plt\n",
        "import folium\n",
        "import pandas as pd\n",
        "\n",
        "# 📌 Step 1: Sample data for testing model predictions\n",
        "y_test = [0, 1, 1]  # Actual values: 0 = No Flood, 1 = Flood\n",
        "y_pred = [1, 1, 1]  # Predicted values\n",
        "\n",
        "# 📊 Step 2: Classification Report with safe division\n",
        "print(\"📊 Model Evaluation Report:\")\n",
        "print(classification_report(y_test, y_pred, zero_division=0))\n",
        "\n",
        "# 📉 Step 3: Confusion Matrix\n",
        "cm = confusion_matrix(y_test, y_pred)\n",
        "disp = ConfusionMatrixDisplay(confusion_matrix=cm, display_labels=[\"No Flood\", \"Flood\"])\n",
        "disp.plot(cmap=plt.cm.Blues)\n",
        "plt.title(\"Confusion Matrix - Flood Prediction\")\n",
        "plt.show()\n",
        "\n",
        "# 🌍 Step 4: Create a map using Folium\n",
        "map_center = [13.0827, 80.2707]  # Chennai\n",
        "disaster_map = folium.Map(location=map_center, zoom_start=10)\n",
        "\n",
        "# Add a flood shelter marker\n",
        "folium.Marker(\n",
        "    location=[13.0827, 80.2707],\n",
        "    popup='Riverside Community Center\\nFlood Shelter',\n",
        "    icon=folium.Icon(color='red', icon='info-sign')\n",
        ").add_to(disaster_map)\n",
        "\n",
        "# 💾 Step 5: Save map as HTML (this can be uploaded to GitHub)\n",
        "map_filename = \"disaster_map.html\"\n",
        "disaster_map.save(map_filename)\n",
        "\n",
        "print(f\"🗺️ Map saved as {map_filename}. You can upload this file to your GitHub repo.\")\n",
        "\n",
        "# 💡 BONUS (optional): Download from Colab if running locally\n",
        "try:\n",
        "    from google.colab import files\n",
        "    files.download(map_filename)\n",
        "except:\n",
        "    print(\"📁 Download option skipped (not running in Colab).\")\n"
      ],
      "metadata": {
        "id": "C7_zl80uR2P_",
        "colab": {
          "base_uri": "https://localhost:8080/",
          "height": 663
        },
        "outputId": "8b049f21-f9e9-4ad0-a267-546a3c4ab847"
      },
      "execution_count": 1,
      "outputs": [
        {
          "output_type": "stream",
          "name": "stdout",
          "text": [
            "📊 Model Evaluation Report:\n",
            "              precision    recall  f1-score   support\n",
            "\n",
            "           0       0.00      0.00      0.00         1\n",
            "           1       0.67      1.00      0.80         2\n",
            "\n",
            "    accuracy                           0.67         3\n",
            "   macro avg       0.33      0.50      0.40         3\n",
            "weighted avg       0.44      0.67      0.53         3\n",
            "\n"
          ]
        },
        {
          "output_type": "display_data",
          "data": {
            "text/plain": [
              "<Figure size 640x480 with 2 Axes>"
            ],
            "image/png": "[encoded data removed]"
          },
          "metadata": {}
        },
        {
          "output_type": "stream",
          "name": "stdout",
          "text": [
            "🗺️ Map saved as disaster_map.html. You can upload this file to your GitHub repo.\n"
          ]
        },
        {
          "output_type": "display_data",
          "data": {
            "text/plain": [
              "<IPython.core.display.Javascript object>"
            ],
            "application/javascript": [
              "\n",
              "    async function download(id, filename, size) {\n",
              "      if (!google.colab.kernel.accessAllowed) {\n",
              "        return;\n",
              "      }\n",
              "      const div = document.createElement('div');\n",
              "      const label = document.createElement('label');\n",
              "      label.textContent = `Downloading \"${filename}\": `;\n",
              "      div.appendChild(label);\n",
              "      const progress = document.createElement('progress');\n",
              "      progress.max = size;\n",
              "      div.appendChild(progress);\n",
              "      document.body.appendChild(div);\n",
              "\n",
              "      const buffers = [];\n",
              "      let downloaded = 0;\n",
              "\n",
              "      const channel = await google.colab.kernel.comms.open(id);\n",
              "      // Send a message to notify the kernel that we're ready.\n",
              "      channel.send({})\n",
              "\n",
              "      for await (const message of channel.messages) {\n",
              "        // Send a message to notify the kernel that we're ready.\n",
              "        channel.send({})\n",
              "        if (message.buffers) {\n",
              "          for (const buffer of message.buffers) {\n",
              "            buffers.push(buffer);\n",
              "            downloaded += buffer.byteLength;\n",
              "            progress.value = downloaded;\n",
              "          }\n",
              "        }\n",
              "      }\n",
              "      const blob = new Blob(buffers, {type: 'application/binary'});\n",
              "      const a = document.createElement('a');\n",
              "      a.href = window.URL.createObjectURL(blob);\n",
              "      a.download = filename;\n",
              "      div.appendChild(a);\n",
              "      a.click();\n",
              "      div.remove();\n",
              "    }\n",
              "  "
            ]
          },
          "metadata": {}
        },
        {
          "output_type": "display_data",
          "data": {
            "text/plain": [
              "<IPython.core.display.Javascript object>"
            ],
            "application/javascript": [
              "download(\"download_8edb19af-518b-4f6b-8e58-e38746e43daf\", \"disaster_map.html\", 4246)"
            ]
          },
          "metadata": {}
        }
      ]
    },
    {
      "cell_type": "code",
      "source": [],
      "metadata": {
        "id": "uzNTfx8OVN88"
      },
      "execution_count": null,
      "outputs": []
    }
  ]
}